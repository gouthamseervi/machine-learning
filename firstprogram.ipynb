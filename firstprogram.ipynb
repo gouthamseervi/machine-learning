{
 "cells": [
  {
   "cell_type": "code",
   "execution_count": 1,
   "metadata": {},
   "outputs": [],
   "source": [
    "n1=[19,12,35,8,87,2]"
   ]
  },
  {
   "cell_type": "code",
   "execution_count": 2,
   "metadata": {},
   "outputs": [],
   "source": [
    "def meannum(lis):\n",
    "    k=0\n",
    "    for i in range(len(lis)):\n",
    "        k += lis[i]\n",
    "        avg  = k/len(lis)\n",
    "        return avg"
   ]
  },
  {
   "cell_type": "code",
   "execution_count": 3,
   "metadata": {},
   "outputs": [
    {
     "data": {
      "text/plain": [
       "3.1666666666666665"
      ]
     },
     "execution_count": 3,
     "metadata": {},
     "output_type": "execute_result"
    }
   ],
   "source": [
    "meannum(n1)"
   ]
  },
  {
   "cell_type": "code",
   "execution_count": 4,
   "metadata": {},
   "outputs": [],
   "source": [
    "def median_num(n1):\n",
    "    n1.sort()\n",
    "    i = 0\n",
    "    if(len(n1)%2==0):\n",
    "        mid = (len(n1)-1)//2\n",
    "        mid1 = len(n1)//2\n",
    "        median = (n1[mid]+n1[mid1])//2\n",
    "        return median\n",
    "    else:\n",
    "        i = (len(n1)-1)//2\n",
    "        return n1[i]"
   ]
  },
  {
   "cell_type": "code",
   "execution_count": 5,
   "metadata": {},
   "outputs": [
    {
     "data": {
      "text/plain": [
       "15"
      ]
     },
     "execution_count": 5,
     "metadata": {},
     "output_type": "execute_result"
    }
   ],
   "source": [
    "median_num(n1)"
   ]
  },
  {
   "cell_type": "code",
   "execution_count": 7,
   "metadata": {},
   "outputs": [
    {
     "name": "stdout",
     "output_type": "stream",
     "text": [
      "mode of the given list is 2\n"
     ]
    }
   ],
   "source": [
    "dict1 = {}\n",
    "for i in n1:\n",
    "    if(i in dict1):\n",
    "        dict1[i] += 1\n",
    "    else:\n",
    "        dict1[i] = 1\n",
    "ele = 0\n",
    "max1 = 0\n",
    "for key, value in dict1.items():\n",
    "    if(value > max1):\n",
    "        max1 = value\n",
    "        ele = key\n",
    "print(f\"mode of the given list is {ele}\")"
   ]
  },
  {
   "cell_type": "code",
   "execution_count": 8,
   "metadata": {},
   "outputs": [],
   "source": [
    "import math\n",
    "def std_devia(l,m):\n",
    "    sd = 0\n",
    "    for i in range(len(l)):\n",
    "        sd = sd + (m - n1[i])**2\n",
    "        sd = sd/len(n1)\n",
    "        return math.sqrt(sd)"
   ]
  },
  {
   "cell_type": "code",
   "execution_count": 9,
   "metadata": {},
   "outputs": [
    {
     "data": {
      "text/plain": [
       "121.65799055823118"
      ]
     },
     "execution_count": 9,
     "metadata": {},
     "output_type": "execute_result"
    }
   ],
   "source": [
    "std_devia(n1,300)"
   ]
  },
  {
   "cell_type": "code",
   "execution_count": 13,
   "metadata": {},
   "outputs": [],
   "source": [
    "def std_nor(l):\n",
    "    max_num = max(l)\n",
    "    min_num = min(l)\n",
    "    normal = []\n",
    "    for a in l:\n",
    "        norm = (a - min_num)/(max_num - min_num)\n",
    "        normal.append(norm)\n",
    "    return normal"
   ]
  },
  {
   "cell_type": "code",
   "execution_count": 17,
   "metadata": {},
   "outputs": [
    {
     "data": {
      "text/plain": [
       "[0.0, 0.07058823529411765, 0.11764705882352941, 0.2, 0.38823529411764707, 1.0]"
      ]
     },
     "execution_count": 17,
     "metadata": {},
     "output_type": "execute_result"
    }
   ],
   "source": [
    "std_nor(n1)"
   ]
  },
  {
   "cell_type": "code",
   "execution_count": 40,
   "metadata": {},
   "outputs": [],
   "source": [
    "def std(mlist):\n",
    "    m = sum(mlist)/len(mlist)\n",
    "    sd = std_devia(mlist,300)\n",
    "    std = []\n",
    "    for i in mlist:\n",
    "        a = (i-m)/sd\n",
    "        std.append(a)\n",
    "    return std"
   ]
  },
  {
   "cell_type": "code",
   "execution_count": 41,
   "metadata": {},
   "outputs": [
    {
     "data": {
      "text/plain": [
       "[-0.20686406664444068,\n",
       " -0.157545481219276,\n",
       " -0.12466642426916623,\n",
       " -0.06712807460647413,\n",
       " 0.06438815319396496,\n",
       " 0.491815893545392]"
      ]
     },
     "execution_count": 41,
     "metadata": {},
     "output_type": "execute_result"
    }
   ],
   "source": [
    "std(n1)"
   ]
  },
  {
   "cell_type": "code",
   "execution_count": null,
   "metadata": {},
   "outputs": [],
   "source": []
  }
 ],
 "metadata": {
  "kernelspec": {
   "display_name": "Python 3",
   "language": "python",
   "name": "python3"
  },
  "language_info": {
   "codemirror_mode": {
    "name": "ipython",
    "version": 3
   },
   "file_extension": ".py",
   "mimetype": "text/x-python",
   "name": "python",
   "nbconvert_exporter": "python",
   "pygments_lexer": "ipython3",
   "version": "3.8.5"
  }
 },
 "nbformat": 4,
 "nbformat_minor": 4
}
