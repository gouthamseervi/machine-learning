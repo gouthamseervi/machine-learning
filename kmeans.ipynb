{
 "cells": [
  {
   "cell_type": "code",
   "execution_count": 1,
   "metadata": {},
   "outputs": [
    {
     "name": "stdout",
     "output_type": "stream",
     "text": [
      "    X1   X2\n",
      "0  5.9  3.2\n",
      "1  4.6  2.9\n",
      "2  6.2  2.8\n",
      "3  4.7  3.2\n",
      "4  5.5  4.2\n",
      "5  5.0  3.0\n",
      "6  4.9  3.1\n",
      "7  6.7  3.1\n",
      "8  5.1  3.8\n",
      "9  6.0  3.0\n"
     ]
    }
   ],
   "source": [
    "import pandas as pd\n",
    "import math as mt\n",
    "data = pd.read_csv('kmeans.csv')\n",
    "print(data)"
   ]
  },
  {
   "cell_type": "code",
   "execution_count": 22,
   "metadata": {},
   "outputs": [
    {
     "name": "stdout",
     "output_type": "stream",
     "text": [
      "[1, 1, 3, 1, 2, 1, 1, 3, 1, 1]\n"
     ]
    }
   ],
   "source": [
    "K=3\n",
    "c_x=[6.2,6.6,6.5]\n",
    "c_y=[3.2,3.7,3.0]\n",
    "arr=[]\n",
    "for i in range (len(data)):\n",
    "    dst=[]\n",
    "   \n",
    "    j=0\n",
    "    while(j<3):\n",
    "        dis=mt.sqrt((data['X1'][i]-c_x[j])**2+(data['X2'][i]-c_y[j])**2)\n",
    "        dst.append(dis)\n",
    "        j+=1\n",
    "    m=dst.index(min(dst))\n",
    "    arr.append(m+1)\n",
    "print(arr)"
   ]
  },
  {
   "cell_type": "code",
   "execution_count": 23,
   "metadata": {},
   "outputs": [
    {
     "name": "stdout",
     "output_type": "stream",
     "text": [
      "7 1 2\n"
     ]
    }
   ],
   "source": [
    "c1=arr.count(1)\n",
    "c2=arr.count(2)\n",
    "c3=arr.count(3)\n",
    "print(c1,c2,c3)"
   ]
  },
  {
   "cell_type": "code",
   "execution_count": 38,
   "metadata": {},
   "outputs": [
    {
     "name": "stdout",
     "output_type": "stream",
     "text": [
      "new centroids\n",
      "[5.171428571428572, 5.5, 6.45]\n",
      "[3.1714285714285713, 4.2, 2.95]\n"
     ]
    }
   ],
   "source": [
    "sx1=0\n",
    "sy1=0\n",
    "sx2=0\n",
    "sy2=0\n",
    "sx3=0\n",
    "sy3=0\n",
    "nc_x=[]\n",
    "nc_y=[]\n",
    "for i in range(len(arr)):\n",
    "    if(arr[i]==1):\n",
    "        sx1=sx1+data['X1'][i]\n",
    "        sy1=sy1+data['X2'][i]\n",
    "    elif(arr[i]==2):\n",
    "        sx2=sx2+data['X1'][i]\n",
    "        sy2=sy2+data['X2'][i]\n",
    "    else:\n",
    "        sx3=sx3+data['X1'][i]\n",
    "        sy3=sy3+data['X2'][i]\n",
    "print(\"new centroids\")        \n",
    "nc_x.append(sx1/c1)\n",
    "nc_x.append(sx2/c2)\n",
    "nc_x.append(sx3/c3)\n",
    "print(nc_x)\n",
    "nc_y.append(sy1/c1)\n",
    "nc_y.append(sy2/c2)\n",
    "nc_y.append(sy3/c3)\n",
    "print(nc_y)"
   ]
  },
  {
   "cell_type": "code",
   "execution_count": 36,
   "metadata": {},
   "outputs": [
    {
     "name": "stdout",
     "output_type": "stream",
     "text": [
      "[1, 1, 3, 1, 2, 1, 1, 3, 1, 1]\n"
     ]
    }
   ],
   "source": [
    "nc_x=[]\n",
    "nc_y=[]\n",
    "arr=[]\n",
    "for i in range (len(data)):\n",
    "    dst=[] \n",
    "    j=0\n",
    "    while(j<3):\n",
    "        dis=mt.sqrt((data['X1'][i]-c_x[j])**2+(data['X2'][i]-c_y[j])**2)\n",
    "        dst.append(dis)\n",
    "        j+=1\n",
    "    m=dst.index(min(dst))\n",
    "    arr.append(m+1)\n",
    "print(arr)"
   ]
  },
  {
   "cell_type": "code",
   "execution_count": null,
   "metadata": {},
   "outputs": [],
   "source": []
  }
 ],
 "metadata": {
  "kernelspec": {
   "display_name": "Python 3",
   "language": "python",
   "name": "python3"
  },
  "language_info": {
   "codemirror_mode": {
    "name": "ipython",
    "version": 3
   },
   "file_extension": ".py",
   "mimetype": "text/x-python",
   "name": "python",
   "nbconvert_exporter": "python",
   "pygments_lexer": "ipython3",
   "version": "3.8.5"
  }
 },
 "nbformat": 4,
 "nbformat_minor": 4
}
